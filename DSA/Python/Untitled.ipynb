{
 "cells": [
  {
   "cell_type": "code",
   "execution_count": 25,
   "id": "746ec6c5-9fea-4aaf-a5b2-642d77844859",
   "metadata": {},
   "outputs": [
    {
     "data": {
      "text/plain": [
       "[2, 4, 6, 8, 10, 12, 14, 16, 18, 20]"
      ]
     },
     "execution_count": 25,
     "metadata": {},
     "output_type": "execute_result"
    }
   ],
   "source": [
    "l1=[i for i in range(1,21) if i%2==0]\n",
    "l1"
   ]
  },
  {
   "cell_type": "code",
   "execution_count": 26,
   "id": "03197344-eff8-45e6-9458-ef511b752fd7",
   "metadata": {},
   "outputs": [
    {
     "data": {
      "text/plain": [
       "[5, 10, 15, 20]"
      ]
     },
     "execution_count": 26,
     "metadata": {},
     "output_type": "execute_result"
    }
   ],
   "source": [
    "l2=[i for i in range(1,21) if i%5==0]\n",
    "l2"
   ]
  },
  {
   "cell_type": "code",
   "execution_count": 27,
   "id": "6e2cddd8-e6d7-48d6-a16d-d4ea3a45644c",
   "metadata": {},
   "outputs": [
    {
     "data": {
      "text/plain": [
       "[1, 2, 3, 4]"
      ]
     },
     "execution_count": 27,
     "metadata": {},
     "output_type": "execute_result"
    }
   ],
   "source": [
    "l3=[1,2,3,4]\n",
    "for i in range (0,len(l2),2):\n",
    "    l2[i],l2[i+1]=l2[i+1],l2[i]\n",
    "l3"
   ]
  },
  {
   "cell_type": "code",
   "execution_count": 28,
   "id": "71c39c4c-d310-46da-b79b-cce903a1c934",
   "metadata": {},
   "outputs": [
    {
     "data": {
      "text/plain": [
       "[4, 2, 3, 4]"
      ]
     },
     "execution_count": 28,
     "metadata": {},
     "output_type": "execute_result"
    }
   ],
   "source": [
    "l4=[1,2,3,4]\n",
    "l4[0],l3[len(l3)-1]=l3[len(l3)-1],l3[0]\n",
    "l4"
   ]
  },
  {
   "cell_type": "code",
   "execution_count": 29,
   "id": "7b7eb9bf-9c84-42f0-a365-38436f478939",
   "metadata": {},
   "outputs": [
    {
     "data": {
      "text/plain": [
       "[[11, 12], [21, 22]]"
      ]
     },
     "execution_count": 29,
     "metadata": {},
     "output_type": "execute_result"
    }
   ],
   "source": [
    "l5=[[x,x+1] for x in [11,21]]\n",
    "l5\n"
   ]
  },
  {
   "cell_type": "code",
   "execution_count": 30,
   "id": "d169b111-cb7e-4e72-9b17-29c36eb59fa7",
   "metadata": {},
   "outputs": [
    {
     "data": {
      "text/plain": [
       "[10, 9, 8, 7, 6, 5, 4, 3, 2, 1]"
      ]
     },
     "execution_count": 30,
     "metadata": {},
     "output_type": "execute_result"
    }
   ],
   "source": [
    "l6=[1,2,3,4,5,6,7,8,9,10]\n",
    "l6.reverse()\n",
    "l6"
   ]
  },
  {
   "cell_type": "code",
   "execution_count": 31,
   "id": "8cab8d27-436d-4a10-bdd4-a989b5418aed",
   "metadata": {},
   "outputs": [
    {
     "data": {
      "text/plain": [
       "False"
      ]
     },
     "execution_count": 31,
     "metadata": {},
     "output_type": "execute_result"
    }
   ],
   "source": [
    "def is_palindrome(l7):\n",
    "    return l7==l7[::-1]\n",
    "is_palindrome([1,2,3,1])"
   ]
  },
  {
   "cell_type": "code",
   "execution_count": 32,
   "id": "f2b92401-45ee-4e79-92b8-f3b6a6f97471",
   "metadata": {},
   "outputs": [
    {
     "name": "stdout",
     "output_type": "stream",
     "text": [
      "The second largest number in the list 12\n"
     ]
    }
   ],
   "source": [
    "l8=[12,44,3,4,5,6,7,8,9,10]\n",
    "l8.sort()\n",
    "print(\"The second largest number in the list\",l8[-2])"
   ]
  },
  {
   "cell_type": "code",
   "execution_count": 33,
   "id": "27f5b6b5-9acb-46b1-9218-3715c073b0a2",
   "metadata": {},
   "outputs": [
    {
     "data": {
      "text/plain": [
       "[1, 2, 3, 4, 5]"
      ]
     },
     "execution_count": 33,
     "metadata": {},
     "output_type": "execute_result"
    }
   ],
   "source": [
    "l9=[1,1,1,2,3,4,5]\n",
    "l9=list(set(l9))\n",
    "l9"
   ]
  },
  {
   "cell_type": "code",
   "execution_count": 34,
   "id": "ed172770-8b4a-43ad-8424-f1ba295c04b4",
   "metadata": {},
   "outputs": [
    {
     "name": "stdout",
     "output_type": "stream",
     "text": [
      "1\n",
      "2\n",
      "3\n",
      "1\n",
      "2\n",
      "5\n",
      "5\n",
      "3\n"
     ]
    }
   ],
   "source": [
    "l10=[1,2,3,1,2,4,5,5,6,3]\n",
    "for i in l10:\n",
    "    if l10.count(i)>1:\n",
    "        print(i)"
   ]
  },
  {
   "cell_type": "code",
   "execution_count": 2,
   "id": "e22c3d8c-992e-4a5e-a77e-360f4209a675",
   "metadata": {},
   "outputs": [
    {
     "data": {
      "text/plain": [
       "[27, 64, 125, 216, 343, 512, 729, 1000]"
      ]
     },
     "execution_count": 2,
     "metadata": {},
     "output_type": "execute_result"
    }
   ],
   "source": [
    "l11=[i**3 for i in range(3,11)]\n",
    "l11"
   ]
  }
 ],
 "metadata": {
  "kernelspec": {
   "display_name": "Python 3 (ipykernel)",
   "language": "python",
   "name": "python3"
  },
  "language_info": {
   "codemirror_mode": {
    "name": "ipython",
    "version": 3
   },
   "file_extension": ".py",
   "mimetype": "text/x-python",
   "name": "python",
   "nbconvert_exporter": "python",
   "pygments_lexer": "ipython3",
   "version": "3.11.7"
  }
 },
 "nbformat": 4,
 "nbformat_minor": 5
}
